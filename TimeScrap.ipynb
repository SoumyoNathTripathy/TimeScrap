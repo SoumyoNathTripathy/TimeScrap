{
  "nbformat": 4,
  "nbformat_minor": 0,
  "metadata": {
    "colab": {
      "provenance": [],
      "authorship_tag": "ABX9TyMRQHZdRpshmiFPaTzL70F9",
      "include_colab_link": true
    },
    "kernelspec": {
      "name": "python3",
      "display_name": "Python 3"
    },
    "language_info": {
      "name": "python"
    }
  },
  "cells": [
    {
      "cell_type": "markdown",
      "metadata": {
        "id": "view-in-github",
        "colab_type": "text"
      },
      "source": [
        "<a href=\"https://colab.research.google.com/github/SoumyoNathTripathy/TimeScrap/blob/main/TimeScrap.ipynb\" target=\"_parent\"><img src=\"https://colab.research.google.com/assets/colab-badge.svg\" alt=\"Open In Colab\"/></a>"
      ]
    },
    {
      "cell_type": "code",
      "execution_count": null,
      "metadata": {
        "colab": {
          "base_uri": "https://localhost:8080/"
        },
        "id": "iZhPTYsCgAyx",
        "outputId": "1fd977b4-94c8-45de-a2b9-8cca15526b20"
      },
      "outputs": [
        {
          "output_type": "stream",
          "name": "stdout",
          "text": [
            "[{\"heading\": \"How Trump Steamrolled the GOP Primary\", \"link\": \"https://time.com/6853014/donald-trump-super-tuesday-gop-nomination/\", \"photo\": \"https://api.time.com/wp-content/uploads/2024/03/GettyImages-2046564427.jpg?quality=85&w=925&h=617&crop=1&resize=925,617\"}, {\"heading\": \"Young Progressive Activists Lay Out 'Roadmap' For Biden To Win Back Gen Z\", \"link\": \"https://time.com/6852859/finish-the-job-agenda-biden-youth-activists/\", \"photo\": \"https://api.time.com/wp-content/uploads/2024/03/gen-z-voters-biden.jpg?quality=85&w=925&h=617&crop=1&resize=925,617\"}, {\"heading\": \"Why Bitcoin Just Hit Its All-Time High\", \"link\": \"https://time.com/6846934/bitcoin-all-time-high-price-holdings/\", \"photo\": \"https://api.time.com/wp-content/uploads/2024/03/GettyImages-1312574813.jpg?quality=85&w=925&h=617&crop=1&resize=925,617\"}, {\"heading\": \"Greta Gerwig on How She Chooses Projects That Excite Her\", \"link\": \"https://time.com/collection/women-of-the-year/6802100/greta-gerwig-projects-undertow-interview/\", \"photo\": \"https://api.time.com/wp-content/uploads/2024/02/greta-gerwig-woty-interview-time.jpg?quality=85&w=925&h=617&crop=1&resize=925,617\"}]\n"
          ]
        }
      ],
      "source": [
        "import requests\n",
        "from bs4 import BeautifulSoup\n",
        "import json\n",
        "\n",
        "def get_latest_stories():\n",
        "    url = \"https://time.com\"\n",
        "    response = requests.get(url)\n",
        "    soup = BeautifulSoup(response.text, 'html.parser')\n",
        "\n",
        "\n",
        "    article_list = soup.find_all(\"article\", class_=\"slide\")\n",
        "    json_list = []\n",
        "    for article in article_list:\n",
        "      heading = article.find(\"h3\", class_=\"title no-eyebrow\")\n",
        "      article_link = \"https://time.com\" + article.find(\"a\").get('href')\n",
        "      article_photo = article.find(\"img\").get(\"src\")\n",
        "      if heading:\n",
        "        json_list.append({'heading' : heading.text, 'link' : article_link, 'photo': article_photo})\n",
        "\n",
        "    return json_list\n",
        "\n",
        "if __name__ == \"__main__\":\n",
        "    latest_stories = get_latest_stories()\n",
        "    print(json.dumps(latest_stories))\n"
      ]
    }
  ]
}